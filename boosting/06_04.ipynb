{
 "cells": [
  {
   "cell_type": "markdown",
   "metadata": {},
   "source": [
    "## Boosting: Fit and evaluate a model\n",
    "\n",
    "Using the Titanic dataset from [this](https://www.kaggle.com/c/titanic/overview) Kaggle competition.\n",
    "\n",
    "In this section, we will fit and evaluate a simple Gradient Boosting model."
   ]
  },
  {
   "cell_type": "markdown",
   "metadata": {},
   "source": [
    "### Read in Data"
   ]
  },
  {
   "cell_type": "code",
   "execution_count": 1,
   "metadata": {},
   "outputs": [],
   "source": [
    "import joblib\n",
    "import pandas as pd\n",
    "from sklearn.ensemble import GradientBoostingClassifier\n",
    "from sklearn.model_selection import GridSearchCV\n",
    "import warnings\n",
    "warnings.filterwarnings('ignore', category=FutureWarning)\n",
    "warnings.filterwarnings('ignore', category=DeprecationWarning)\n",
    "\n",
    "tr_features = pd.read_csv('../../../train_features.csv')\n",
    "tr_labels = pd.read_csv('../../../train_labels.csv')"
   ]
  },
  {
   "cell_type": "markdown",
   "metadata": {},
   "source": [
    "### Hyperparameter tuning\n",
    "\n",
    "![GB](../../img/gb.png)"
   ]
  },
  {
   "cell_type": "code",
   "execution_count": 2,
   "metadata": {},
   "outputs": [],
   "source": [
    "def print_results(results):\n",
    "    print('BEST PARAMS: {}\\n'.format(results.best_params_))\n",
    "\n",
    "    means = results.cv_results_['mean_test_score']\n",
    "    stds = results.cv_results_['std_test_score']\n",
    "    for mean, std, params in zip(means, stds, results.cv_results_['params']):\n",
    "        print('{} (+/-{}) for {}'.format(round(mean, 3), round(std * 2, 3), params))"
   ]
  },
  {
   "cell_type": "code",
   "execution_count": 3,
   "metadata": {},
   "outputs": [
    {
     "name": "stdout",
     "output_type": "stream",
     "text": [
      "BEST PARAMS: {'learning_rate': 0.01, 'max_depth': 3, 'n_estimators': 500}\n",
      "\n",
      "0.624 (+/-0.007) for {'learning_rate': 0.01, 'max_depth': 1, 'n_estimators': 5}\n",
      "0.796 (+/-0.115) for {'learning_rate': 0.01, 'max_depth': 1, 'n_estimators': 50}\n",
      "0.796 (+/-0.115) for {'learning_rate': 0.01, 'max_depth': 1, 'n_estimators': 250}\n",
      "0.811 (+/-0.117) for {'learning_rate': 0.01, 'max_depth': 1, 'n_estimators': 500}\n",
      "0.624 (+/-0.007) for {'learning_rate': 0.01, 'max_depth': 3, 'n_estimators': 5}\n",
      "0.811 (+/-0.069) for {'learning_rate': 0.01, 'max_depth': 3, 'n_estimators': 50}\n",
      "0.83 (+/-0.074) for {'learning_rate': 0.01, 'max_depth': 3, 'n_estimators': 250}\n",
      "0.841 (+/-0.077) for {'learning_rate': 0.01, 'max_depth': 3, 'n_estimators': 500}\n",
      "0.624 (+/-0.007) for {'learning_rate': 0.01, 'max_depth': 5, 'n_estimators': 5}\n",
      "0.822 (+/-0.052) for {'learning_rate': 0.01, 'max_depth': 5, 'n_estimators': 50}\n",
      "0.818 (+/-0.043) for {'learning_rate': 0.01, 'max_depth': 5, 'n_estimators': 250}\n",
      "0.828 (+/-0.047) for {'learning_rate': 0.01, 'max_depth': 5, 'n_estimators': 500}\n",
      "0.624 (+/-0.007) for {'learning_rate': 0.01, 'max_depth': 7, 'n_estimators': 5}\n",
      "0.818 (+/-0.055) for {'learning_rate': 0.01, 'max_depth': 7, 'n_estimators': 50}\n",
      "0.815 (+/-0.041) for {'learning_rate': 0.01, 'max_depth': 7, 'n_estimators': 250}\n",
      "0.8 (+/-0.035) for {'learning_rate': 0.01, 'max_depth': 7, 'n_estimators': 500}\n",
      "0.624 (+/-0.007) for {'learning_rate': 0.01, 'max_depth': 9, 'n_estimators': 5}\n",
      "0.803 (+/-0.059) for {'learning_rate': 0.01, 'max_depth': 9, 'n_estimators': 50}\n",
      "0.798 (+/-0.039) for {'learning_rate': 0.01, 'max_depth': 9, 'n_estimators': 250}\n",
      "0.786 (+/-0.044) for {'learning_rate': 0.01, 'max_depth': 9, 'n_estimators': 500}\n",
      "0.796 (+/-0.115) for {'learning_rate': 0.1, 'max_depth': 1, 'n_estimators': 5}\n",
      "0.815 (+/-0.119) for {'learning_rate': 0.1, 'max_depth': 1, 'n_estimators': 50}\n",
      "0.818 (+/-0.111) for {'learning_rate': 0.1, 'max_depth': 1, 'n_estimators': 250}\n",
      "0.828 (+/-0.092) for {'learning_rate': 0.1, 'max_depth': 1, 'n_estimators': 500}\n",
      "0.813 (+/-0.071) for {'learning_rate': 0.1, 'max_depth': 3, 'n_estimators': 5}\n",
      "0.841 (+/-0.07) for {'learning_rate': 0.1, 'max_depth': 3, 'n_estimators': 50}\n",
      "0.83 (+/-0.035) for {'learning_rate': 0.1, 'max_depth': 3, 'n_estimators': 250}\n",
      "0.811 (+/-0.036) for {'learning_rate': 0.1, 'max_depth': 3, 'n_estimators': 500}\n",
      "0.813 (+/-0.051) for {'learning_rate': 0.1, 'max_depth': 5, 'n_estimators': 5}\n",
      "0.818 (+/-0.025) for {'learning_rate': 0.1, 'max_depth': 5, 'n_estimators': 50}\n",
      "0.803 (+/-0.033) for {'learning_rate': 0.1, 'max_depth': 5, 'n_estimators': 250}\n",
      "0.8 (+/-0.032) for {'learning_rate': 0.1, 'max_depth': 5, 'n_estimators': 500}\n",
      "0.818 (+/-0.053) for {'learning_rate': 0.1, 'max_depth': 7, 'n_estimators': 5}\n",
      "0.805 (+/-0.049) for {'learning_rate': 0.1, 'max_depth': 7, 'n_estimators': 50}\n",
      "0.802 (+/-0.029) for {'learning_rate': 0.1, 'max_depth': 7, 'n_estimators': 250}\n",
      "0.796 (+/-0.046) for {'learning_rate': 0.1, 'max_depth': 7, 'n_estimators': 500}\n",
      "0.8 (+/-0.042) for {'learning_rate': 0.1, 'max_depth': 9, 'n_estimators': 5}\n",
      "0.796 (+/-0.037) for {'learning_rate': 0.1, 'max_depth': 9, 'n_estimators': 50}\n",
      "0.785 (+/-0.04) for {'learning_rate': 0.1, 'max_depth': 9, 'n_estimators': 250}\n",
      "0.79 (+/-0.046) for {'learning_rate': 0.1, 'max_depth': 9, 'n_estimators': 500}\n",
      "0.818 (+/-0.099) for {'learning_rate': 1, 'max_depth': 1, 'n_estimators': 5}\n",
      "0.832 (+/-0.081) for {'learning_rate': 1, 'max_depth': 1, 'n_estimators': 50}\n",
      "0.826 (+/-0.077) for {'learning_rate': 1, 'max_depth': 1, 'n_estimators': 250}\n",
      "0.822 (+/-0.081) for {'learning_rate': 1, 'max_depth': 1, 'n_estimators': 500}\n",
      "0.824 (+/-0.057) for {'learning_rate': 1, 'max_depth': 3, 'n_estimators': 5}\n",
      "0.8 (+/-0.024) for {'learning_rate': 1, 'max_depth': 3, 'n_estimators': 50}\n",
      "0.788 (+/-0.043) for {'learning_rate': 1, 'max_depth': 3, 'n_estimators': 250}\n",
      "0.794 (+/-0.031) for {'learning_rate': 1, 'max_depth': 3, 'n_estimators': 500}\n",
      "0.8 (+/-0.035) for {'learning_rate': 1, 'max_depth': 5, 'n_estimators': 5}\n",
      "0.794 (+/-0.036) for {'learning_rate': 1, 'max_depth': 5, 'n_estimators': 50}\n",
      "0.794 (+/-0.035) for {'learning_rate': 1, 'max_depth': 5, 'n_estimators': 250}\n",
      "0.783 (+/-0.014) for {'learning_rate': 1, 'max_depth': 5, 'n_estimators': 500}\n",
      "0.79 (+/-0.01) for {'learning_rate': 1, 'max_depth': 7, 'n_estimators': 5}\n",
      "0.792 (+/-0.029) for {'learning_rate': 1, 'max_depth': 7, 'n_estimators': 50}\n",
      "0.79 (+/-0.035) for {'learning_rate': 1, 'max_depth': 7, 'n_estimators': 250}\n",
      "0.809 (+/-0.034) for {'learning_rate': 1, 'max_depth': 7, 'n_estimators': 500}\n",
      "0.781 (+/-0.028) for {'learning_rate': 1, 'max_depth': 9, 'n_estimators': 5}\n",
      "0.796 (+/-0.039) for {'learning_rate': 1, 'max_depth': 9, 'n_estimators': 50}\n",
      "0.798 (+/-0.03) for {'learning_rate': 1, 'max_depth': 9, 'n_estimators': 250}\n",
      "0.792 (+/-0.05) for {'learning_rate': 1, 'max_depth': 9, 'n_estimators': 500}\n",
      "0.204 (+/-0.115) for {'learning_rate': 10, 'max_depth': 1, 'n_estimators': 5}\n",
      "0.204 (+/-0.115) for {'learning_rate': 10, 'max_depth': 1, 'n_estimators': 50}\n",
      "0.204 (+/-0.115) for {'learning_rate': 10, 'max_depth': 1, 'n_estimators': 250}\n",
      "0.204 (+/-0.115) for {'learning_rate': 10, 'max_depth': 1, 'n_estimators': 500}\n",
      "0.307 (+/-0.195) for {'learning_rate': 10, 'max_depth': 3, 'n_estimators': 5}\n",
      "0.307 (+/-0.195) for {'learning_rate': 10, 'max_depth': 3, 'n_estimators': 50}\n",
      "0.307 (+/-0.195) for {'learning_rate': 10, 'max_depth': 3, 'n_estimators': 250}\n",
      "0.307 (+/-0.195) for {'learning_rate': 10, 'max_depth': 3, 'n_estimators': 500}\n",
      "0.412 (+/-0.251) for {'learning_rate': 10, 'max_depth': 5, 'n_estimators': 5}\n",
      "0.414 (+/-0.264) for {'learning_rate': 10, 'max_depth': 5, 'n_estimators': 50}\n",
      "0.443 (+/-0.263) for {'learning_rate': 10, 'max_depth': 5, 'n_estimators': 250}\n",
      "0.391 (+/-0.186) for {'learning_rate': 10, 'max_depth': 5, 'n_estimators': 500}\n",
      "0.603 (+/-0.219) for {'learning_rate': 10, 'max_depth': 7, 'n_estimators': 5}\n",
      "0.642 (+/-0.204) for {'learning_rate': 10, 'max_depth': 7, 'n_estimators': 50}\n",
      "0.597 (+/-0.194) for {'learning_rate': 10, 'max_depth': 7, 'n_estimators': 250}\n",
      "0.594 (+/-0.179) for {'learning_rate': 10, 'max_depth': 7, 'n_estimators': 500}\n",
      "0.708 (+/-0.101) for {'learning_rate': 10, 'max_depth': 9, 'n_estimators': 5}\n",
      "0.699 (+/-0.104) for {'learning_rate': 10, 'max_depth': 9, 'n_estimators': 50}\n",
      "0.687 (+/-0.107) for {'learning_rate': 10, 'max_depth': 9, 'n_estimators': 250}\n",
      "0.715 (+/-0.101) for {'learning_rate': 10, 'max_depth': 9, 'n_estimators': 500}\n",
      "0.376 (+/-0.007) for {'learning_rate': 100, 'max_depth': 1, 'n_estimators': 5}\n",
      "0.376 (+/-0.007) for {'learning_rate': 100, 'max_depth': 1, 'n_estimators': 50}\n",
      "0.376 (+/-0.007) for {'learning_rate': 100, 'max_depth': 1, 'n_estimators': 250}\n",
      "0.376 (+/-0.007) for {'learning_rate': 100, 'max_depth': 1, 'n_estimators': 500}\n",
      "0.29 (+/-0.102) for {'learning_rate': 100, 'max_depth': 3, 'n_estimators': 5}\n",
      "0.29 (+/-0.102) for {'learning_rate': 100, 'max_depth': 3, 'n_estimators': 50}\n",
      "0.29 (+/-0.102) for {'learning_rate': 100, 'max_depth': 3, 'n_estimators': 250}\n",
      "0.29 (+/-0.102) for {'learning_rate': 100, 'max_depth': 3, 'n_estimators': 500}\n",
      "0.357 (+/-0.18) for {'learning_rate': 100, 'max_depth': 5, 'n_estimators': 5}\n",
      "0.354 (+/-0.185) for {'learning_rate': 100, 'max_depth': 5, 'n_estimators': 50}\n",
      "0.354 (+/-0.179) for {'learning_rate': 100, 'max_depth': 5, 'n_estimators': 250}\n",
      "0.365 (+/-0.188) for {'learning_rate': 100, 'max_depth': 5, 'n_estimators': 500}\n",
      "0.61 (+/-0.16) for {'learning_rate': 100, 'max_depth': 7, 'n_estimators': 5}\n",
      "0.582 (+/-0.111) for {'learning_rate': 100, 'max_depth': 7, 'n_estimators': 50}\n",
      "0.573 (+/-0.113) for {'learning_rate': 100, 'max_depth': 7, 'n_estimators': 250}\n",
      "0.56 (+/-0.111) for {'learning_rate': 100, 'max_depth': 7, 'n_estimators': 500}\n",
      "0.687 (+/-0.084) for {'learning_rate': 100, 'max_depth': 9, 'n_estimators': 5}\n",
      "0.678 (+/-0.073) for {'learning_rate': 100, 'max_depth': 9, 'n_estimators': 50}\n",
      "0.657 (+/-0.057) for {'learning_rate': 100, 'max_depth': 9, 'n_estimators': 250}\n",
      "0.654 (+/-0.077) for {'learning_rate': 100, 'max_depth': 9, 'n_estimators': 500}\n"
     ]
    }
   ],
   "source": [
    "gb = GradientBoostingClassifier()\n",
    "parameters = {\n",
    "    'n_estimators': [5, 50, 250, 500],\n",
    "    'max_depth': [1, 3, 5, 7, 9],\n",
    "    'learning_rate': [0.01, 0.1, 1, 10, 100]\n",
    "}\n",
    "\n",
    "cv = GridSearchCV(gb, parameters, cv=5)\n",
    "cv.fit(tr_features, tr_labels.values.ravel())\n",
    "\n",
    "print_results(cv)"
   ]
  },
  {
   "cell_type": "markdown",
   "metadata": {},
   "source": [
    "### Write out pickled model"
   ]
  },
  {
   "cell_type": "code",
   "execution_count": 4,
   "metadata": {},
   "outputs": [
    {
     "data": {
      "text/plain": [
       "['../../../GB_model.pkl']"
      ]
     },
     "execution_count": 4,
     "metadata": {},
     "output_type": "execute_result"
    }
   ],
   "source": [
    "joblib.dump(cv.best_estimator_, '../../../GB_model.pkl')"
   ]
  },
  {
   "cell_type": "code",
   "execution_count": null,
   "metadata": {},
   "outputs": [],
   "source": []
  }
 ],
 "metadata": {
  "kernelspec": {
   "display_name": "Python 3",
   "language": "python",
   "name": "python3"
  },
  "language_info": {
   "codemirror_mode": {
    "name": "ipython",
    "version": 3
   },
   "file_extension": ".py",
   "mimetype": "text/x-python",
   "name": "python",
   "nbconvert_exporter": "python",
   "pygments_lexer": "ipython3",
   "version": "3.8.3"
  }
 },
 "nbformat": 4,
 "nbformat_minor": 2
}
